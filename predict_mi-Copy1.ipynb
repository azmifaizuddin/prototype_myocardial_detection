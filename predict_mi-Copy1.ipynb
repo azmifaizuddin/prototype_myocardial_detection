{
 "cells": [
  {
   "cell_type": "code",
   "execution_count": 60,
   "id": "fc6942c3-1cce-4c19-8184-6afc2eb2fd8b",
   "metadata": {
    "tags": []
   },
   "outputs": [],
   "source": [
    "import numpy as np\n",
    "import pandas as pd\n",
    "import seaborn as sns\n",
    "import matplotlib.pyplot as plt\n",
    "from sklearn.metrics import confusion_matrix, classification_report\n",
    "import io\n",
    "from PIL import Image\n",
    "from matplotlib import image as mpimg\n",
    "import pickle"
   ]
  },
  {
   "cell_type": "code",
   "execution_count": 53,
   "id": "06362a90-f338-41ad-972d-09a4f07c08bd",
   "metadata": {
    "tags": []
   },
   "outputs": [],
   "source": [
    "data_test = np.load('data_test.npy')"
   ]
  },
  {
   "cell_type": "code",
   "execution_count": 54,
   "id": "f2e6ae50-0571-40e8-9fd4-22d9e7dcd24d",
   "metadata": {
    "tags": []
   },
   "outputs": [],
   "source": [
    "named_labels = ['MI', 'NORM', 'OTHER']\n",
    "named_labels = np.array(named_labels)"
   ]
  },
  {
   "cell_type": "code",
   "execution_count": 55,
   "id": "0468839a-2b3b-4d99-bc66-e920e149352d",
   "metadata": {
    "tags": []
   },
   "outputs": [],
   "source": [
    "def predict(data, mod):\n",
    "    # Make predictions on validation set\n",
    "    with open('modeladam_LSTM', 'rb') as f :\n",
    "        model_cnn = pickle.load(f)\n",
    "    with open('modeladam_LSTM', 'rb') as f :\n",
    "        model_lstm = pickle.load(f)\n",
    "    with open('modeladam_LSTM', 'rb') as f :\n",
    "        model_dnn = pickle.load(f)\n",
    "        \n",
    "    label_test = np.load('label_test.npy')\n",
    "    if mod == 'cnn' :\n",
    "        model = model_cnn\n",
    "    elif mod == 'lstm' :\n",
    "        model = model_lstm\n",
    "    elif mod == 'dnn' :\n",
    "        model = model_dnn\n",
    "    Y_pred = model.predict(data)\n",
    "    Y_pred_labels = np.argmax(Y_pred, axis=1)\n",
    "    Y_true_labels = np.argmax(label_test, axis=1)\n",
    "    # Matriks konfusi\n",
    "    conf_matrix = confusion_matrix(Y_true_labels, Y_pred_labels, labels=np.arange(len(named_labels)))\n",
    "    return conf_matrix"
   ]
  },
  {
   "cell_type": "code",
   "execution_count": 56,
   "id": "11689654-1a7a-43f9-a827-5b9e7177b3a4",
   "metadata": {
    "tags": []
   },
   "outputs": [],
   "source": [
    "mod = 'lstm'"
   ]
  },
  {
   "cell_type": "code",
   "execution_count": 57,
   "id": "02c8acd2-8ef7-4114-84fe-eff15795aa5f",
   "metadata": {
    "tags": []
   },
   "outputs": [],
   "source": [
    "def model_performance(data, mod):\n",
    "    cf_matrix = predict(data, mod)\n",
    "    performance_result = []\n",
    "    mean_performance_result = []\n",
    "    true_positive = np.diag(cf_matrix)\n",
    "    false_negative = np.sum(cf_matrix, axis=1) - true_positive\n",
    "    false_positive = np.sum(cf_matrix, axis=0) - true_positive\n",
    "    true_negative = np.sum(cf_matrix) - (true_positive + false_negative + false_positive)\n",
    "    # Calculate the total number of samples\n",
    "    total_samples = sum(sum(row) for row in cf_matrix)\n",
    "\n",
    "\n",
    "    accuracy = (true_positive + true_negative) / total_samples\n",
    "    sensitivity = true_positive / (true_positive + false_negative)\n",
    "    specificity = true_negative / (true_negative + false_positive)\n",
    "\n",
    "    mean_accuracy = np.mean(accuracy)\n",
    "    mean_sensitivity = np.mean(sensitivity)\n",
    "    mean_specificity = np.mean(specificity)\n",
    "    \n",
    "    performance_result.extend((accuracy, sensitivity,  specificity))\n",
    "    mean_performance_result.extend((mean_accuracy, mean_sensitivity,  mean_specificity))\n",
    "    \n",
    "    return cf_matrix, performance_result, mean_performance_result"
   ]
  },
  {
   "cell_type": "code",
   "execution_count": 58,
   "id": "3f9b11d7-c269-453c-a3e4-383167f8bfb5",
   "metadata": {
    "tags": []
   },
   "outputs": [
    {
     "name": "stdout",
     "output_type": "stream",
     "text": [
      "170/170 [==============================] - 18s 84ms/step\n"
     ]
    }
   ],
   "source": [
    "cf_matrix, performance_result, mean_performance_result = model_performance(data_test, mod)"
   ]
  },
  {
   "cell_type": "code",
   "execution_count": 59,
   "id": "019d019b-3a9f-4b37-9ca5-3e35377498b5",
   "metadata": {
    "tags": []
   },
   "outputs": [
    {
     "name": "stdout",
     "output_type": "stream",
     "text": [
      "Confusion Matrix : \n",
      "[[1589   70   80]\n",
      " [ 101 1491  248]\n",
      " [  66  201 1564]]\n"
     ]
    }
   ],
   "source": [
    "print(\"Confusion Matrix : \")\n",
    "print(cf_matrix)"
   ]
  },
  {
   "cell_type": "code",
   "execution_count": 18,
   "id": "8f219486-89f5-40e6-9c6e-0bce97a9dbb6",
   "metadata": {
    "tags": []
   },
   "outputs": [
    {
     "name": "stdout",
     "output_type": "stream",
     "text": [
      "Accuracy: [0.94140481 0.88539741 0.89001848]\n",
      "Sensitivity: [0.91374353 0.81032609 0.85417804]\n",
      "Specificity: [0.95450831 0.92408964 0.90835429]\n"
     ]
    }
   ],
   "source": [
    "print(\"Accuracy:\", performance_result[0])\n",
    "print(\"Sensitivity:\", performance_result[1])\n",
    "print(\"Specificity:\", performance_result[2])"
   ]
  },
  {
   "cell_type": "code",
   "execution_count": 19,
   "id": "1bfbb112-6d95-4f0a-93ec-617e3ac9e236",
   "metadata": {},
   "outputs": [
    {
     "name": "stdout",
     "output_type": "stream",
     "text": [
      "Mean Accuracy: 0.9056069008009858\n",
      "Mean Sensitivity: 0.8594158875018666\n",
      "Mean Specificity: 0.928984077708234\n"
     ]
    }
   ],
   "source": [
    "print(\"Mean Accuracy:\", mean_performance_result[0])\n",
    "print(\"Mean Sensitivity:\", mean_performance_result[1])\n",
    "print(\"Mean Specificity:\", mean_performance_result[2])"
   ]
  },
  {
   "cell_type": "code",
   "execution_count": 21,
   "id": "47bad4a7-799f-467a-9a6d-037ba685c88b",
   "metadata": {
    "tags": []
   },
   "outputs": [],
   "source": [
    "def create_confusion_matrix(cf_matrix, path):\n",
    "    # Calculate percentages for each true class\n",
    "    conf_matrix_percentage = cf_matrix / cf_matrix.sum(axis=1, keepdims=True) * 100\n",
    "    # Create a heatmap using seaborn\n",
    "    plt.figure(figsize=(8, 6))\n",
    "    sns.heatmap(conf_matrix_percentage, annot=True, fmt='.2f', cmap='Blues', xticklabels=named_labels, yticklabels=named_labels)\n",
    "    plt.xlabel('Predicted Labels')\n",
    "    plt.ylabel('True Labels')\n",
    "    plt.title('Confusion Matrix - Prediction Percentages')\n",
    "    plt.savefig(path)"
   ]
  },
  {
   "cell_type": "code",
   "execution_count": 22,
   "id": "bbddded4-3583-4ad7-971e-eb9b8c972fc6",
   "metadata": {
    "tags": []
   },
   "outputs": [
    {
     "data": {
      "image/png": "[encoded data removed]",
      "text/plain": [
       "<Figure size 800x600 with 2 Axes>"
      ]
     },
     "metadata": {},
     "output_type": "display_data"
    }
   ],
   "source": [
    "path = 'test.png'\n",
    "create_confusion_matrix(cf_matrix, path)"
   ]
  },
  {
   "cell_type": "code",
   "execution_count": 33,
   "id": "a57f16df-55df-440e-af95-c813f7c6c43f",
   "metadata": {
    "tags": []
   },
   "outputs": [
    {
     "data": {
      "text/plain": [
       "(5410, 98)"
      ]
     },
     "execution_count": 33,
     "metadata": {},
     "output_type": "execute_result"
    }
   ],
   "source": [
    "data_reshaped = data_test.reshape(data_test.shape[0], data_test.shape[1])\n",
    "data_reshaped.shape"
   ]
  },
  {
   "cell_type": "code",
   "execution_count": 34,
   "id": "112be48e-c603-457a-9593-7d37324b69be",
   "metadata": {
    "tags": []
   },
   "outputs": [],
   "source": [
    "DF = pd.DataFrame(data_reshaped)\n",
    "DF.to_csv(\"data_test.csv\")"
   ]
  },
  {
   "cell_type": "code",
   "execution_count": 28,
   "id": "852ab684-6f44-4aa0-9c32-f6e2b56497f9",
   "metadata": {
    "tags": []
   },
   "outputs": [],
   "source": [
    "import csv\n",
    "with open('data_test.csv', 'r') as f:\n",
    "    reader = csv.reader(f)\n",
    "    data = list(reader)"
   ]
  },
  {
   "cell_type": "code",
   "execution_count": 37,
   "id": "406f1126-b48a-4025-b542-50f111d500f2",
   "metadata": {
    "tags": []
   },
   "outputs": [],
   "source": [
    "def csv_to_numpy(csv_file):\n",
    "    data = np.genfromtxt(csv_file, delimiter=',', skip_header=1)\n",
    "    return data"
   ]
  },
  {
   "cell_type": "code",
   "execution_count": 45,
   "id": "7dea7c8c-ac07-4b0f-9d41-7138256675ae",
   "metadata": {
    "tags": []
   },
   "outputs": [
    {
     "data": {
      "text/plain": [
       "-0.24047726632952343"
      ]
     },
     "execution_count": 45,
     "metadata": {},
     "output_type": "execute_result"
    }
   ],
   "source": [
    "new_data = csv_to_numpy('data_test.csv')\n",
    "new_data[0][98]"
   ]
  },
  {
   "cell_type": "code",
   "execution_count": null,
   "id": "e4eb50ac-6d2e-4943-8740-15fa32501347",
   "metadata": {},
   "outputs": [],
   "source": [
    "print(\"Mean Accuracy:\", mean_performance_result[0])\n",
    "print(\"Mean Sensitivity:\", mean_performance_result[1])\n",
    "print(\"Mean Specificity:\", mean_performance_result[2])"
   ]
  }
 ],
 "metadata": {
  "kernelspec": {
   "display_name": "Python 3 (ipykernel)",
   "language": "python",
   "name": "python3"
  },
  "language_info": {
   "codemirror_mode": {
    "name": "ipython",
    "version": 3
   },
   "file_extension": ".py",
   "mimetype": "text/x-python",
   "name": "python",
   "nbconvert_exporter": "python",
   "pygments_lexer": "ipython3",
   "version": "3.11.2"
  }
 },
 "nbformat": 4,
 "nbformat_minor": 5
}
